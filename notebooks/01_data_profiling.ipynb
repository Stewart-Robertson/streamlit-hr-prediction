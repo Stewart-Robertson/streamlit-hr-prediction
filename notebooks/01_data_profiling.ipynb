{
 "cells": [
  {
   "cell_type": "markdown",
   "id": "baec3e2a",
   "metadata": {},
   "source": [
    "# Data Profiling\n",
    "\n",
    "This script will\n",
    "- Use YData Profiling to comprehensively profile the raw data\n",
    "    - Visualise correlations between features\n",
    "    - Flag alerts found within the data\n",
    "- Save an HTML profile report to /reports/hr_attrition_profiling.html"
   ]
  },
  {
   "cell_type": "code",
   "execution_count": null,
   "id": "9e8314c0",
   "metadata": {},
   "outputs": [
    {
     "name": "stdout",
     "output_type": "stream",
     "text": [
      "<class 'pandas.core.frame.DataFrame'>\n",
      "RangeIndex: 25000 entries, 0 to 24999\n",
      "Data columns (total 37 columns):\n",
      " #   Column                      Non-Null Count  Dtype  \n",
      "---  ------                      --------------  -----  \n",
      " 0   employee_id                 25000 non-null  int64  \n",
      " 1   snapshot_date               25000 non-null  object \n",
      " 2   hire_date                   25000 non-null  object \n",
      " 3   region                      25000 non-null  object \n",
      " 4   department                  25000 non-null  object \n",
      " 5   role                        25000 non-null  object \n",
      " 6   level                       25000 non-null  object \n",
      " 7   is_manager                  25000 non-null  int64  \n",
      " 8   age                         25000 non-null  int64  \n",
      " 9   gender                      25000 non-null  object \n",
      " 10  remote_status               25000 non-null  object \n",
      " 11  commute_km                  25000 non-null  float64\n",
      " 12  tenure_years                25000 non-null  float64\n",
      " 13  base_salary                 25000 non-null  float64\n",
      " 14  compa_ratio                 25000 non-null  float64\n",
      " 15  avg_raise_3y                25000 non-null  float64\n",
      " 16  time_since_last_promo_yrs   25000 non-null  float64\n",
      " 17  internal_moves_last_2y      25000 non-null  int64  \n",
      " 18  performance_rating          25000 non-null  int64  \n",
      " 19  engagement_score            23034 non-null  float64\n",
      " 20  manager_quality             23214 non-null  float64\n",
      " 21  workload_score              25000 non-null  float64\n",
      " 22  learning_hours_last_yr      25000 non-null  float64\n",
      " 23  overtime_hours_month        25000 non-null  float64\n",
      " 24  night_shift                 25000 non-null  int64  \n",
      " 25  schedule_flex               25000 non-null  int64  \n",
      " 26  stock_grants                25000 non-null  float64\n",
      " 27  benefit_score               25000 non-null  float64\n",
      " 28  sick_days                   25000 non-null  float64\n",
      " 29  pto_days_taken              25000 non-null  float64\n",
      " 30  leave_last_yr               25000 non-null  int64  \n",
      " 31  team_id                     25000 non-null  int64  \n",
      " 32  exit_interview_scheduled    25000 non-null  int64  \n",
      " 33  offboarding_ticket_created  25000 non-null  int64  \n",
      " 34  attrited                    25000 non-null  int64  \n",
      " 35  months_since_hire           25000 non-null  float64\n",
      " 36  salary_band                 25000 non-null  object \n",
      "dtypes: float64(16), int64(12), object(9)\n",
      "memory usage: 7.1+ MB\n"
     ]
    }
   ],
   "source": [
    "# ---\n",
    "# HR Attrition Dataset - Data Profiling\n",
    "# ---\n",
    "\n",
    "import pandas as pd\n",
    "from ydata_profiling import ProfileReport\n",
    "\n",
    "# Load data\n",
    "df = pd.read_csv(\"../data/raw/hr_attrition_dataset.csv\")\n",
    "\n",
    "# Quick peek\n",
    "df.head()\n",
    "df.shape\n",
    "df.info()"
   ]
  },
  {
   "cell_type": "code",
   "execution_count": 6,
   "id": "812e24f2",
   "metadata": {},
   "outputs": [
    {
     "name": "stderr",
     "output_type": "stream",
     "text": [
      "Summarize dataset: 100%|██████████| 447/447 [00:33<00:00, 13.39it/s, Completed]                                                   \n",
      "Generate report structure: 100%|██████████| 1/1 [00:06<00:00,  6.93s/it]\n",
      "Render HTML: 100%|██████████| 1/1 [00:05<00:00,  5.82s/it]\n",
      "Export report to file: 100%|██████████| 1/1 [00:00<00:00, 67.73it/s]\n"
     ]
    }
   ],
   "source": [
    "profile = ProfileReport(df, title=\"HR Attrition Dataset Profiling Report\", explorative=True)\n",
    "profile.to_file(\"../reports/hr_attrition_profiling.html\")"
   ]
  },
  {
   "cell_type": "markdown",
   "id": "25b27fce",
   "metadata": {},
   "source": [
    "## Correlation Heatmap\n",
    "\n",
    "<img src=\"../reports/Correlations.png\" width=\"50%\">\n",
    "\n",
    "## Alerts\n",
    "\n",
    "<img src=\"../reports/Alerts.png\" width=\"50%\">"
   ]
  },
  {
   "cell_type": "markdown",
   "id": "822a485a",
   "metadata": {},
   "source": [
    "## Double-check quality"
   ]
  },
  {
   "cell_type": "code",
   "execution_count": null,
   "id": "da922b28",
   "metadata": {},
   "outputs": [
    {
     "data": {
      "text/plain": [
       "0"
      ]
     },
     "execution_count": 4,
     "metadata": {},
     "output_type": "execute_result"
    }
   ],
   "source": [
    "# Check missing values\n",
    "df.isnull().sum().sort_values(ascending=False)\n",
    "\n",
    "# Check unique values per column (helps detect categorical vs numeric)\n",
    "df.nunique().sort_values()\n",
    "\n",
    "# Look for duplicates\n",
    "df.duplicated().sum()"
   ]
  }
 ],
 "metadata": {
  "kernelspec": {
   "display_name": "hr-predictive-modelling",
   "language": "python",
   "name": "python3"
  },
  "language_info": {
   "codemirror_mode": {
    "name": "ipython",
    "version": 3
   },
   "file_extension": ".py",
   "mimetype": "text/x-python",
   "name": "python",
   "nbconvert_exporter": "python",
   "pygments_lexer": "ipython3",
   "version": "3.11.13"
  }
 },
 "nbformat": 4,
 "nbformat_minor": 5
}
